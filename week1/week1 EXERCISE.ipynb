{
 "cells": [
  {
   "cell_type": "markdown",
   "id": "fe12c203-e6a6-452c-a655-afb8a03a4ff5",
   "metadata": {},
   "source": [
    "# End of week 1 exercise\n",
    "\n",
    "To demonstrate your familiarity with OpenAI API, and also Ollama, build a tool that takes a technical question,  \n",
    "and responds with an explanation. This is a tool that you will be able to use yourself during the course!"
   ]
  },
  {
   "cell_type": "code",
   "execution_count": 1,
   "id": "c1070317-3ed9-4659-abe3-828943230e03",
   "metadata": {},
   "outputs": [],
   "source": [
    "# Imports\n",
    "import ollama\n",
    "import os\n",
    "from dotenv import load_dotenv\n",
    "from IPython.display import Markdown, display, update_display\n",
    "from openai import OpenAI"
   ]
  },
  {
   "cell_type": "code",
   "execution_count": 2,
   "id": "4a456906-915a-4bfd-bb9d-57e505c5093f",
   "metadata": {},
   "outputs": [],
   "source": [
    "# Constants\n",
    "MODEL_GPT = 'gpt-4o-mini'\n",
    "MODEL_LLAMA = 'llama3.2'"
   ]
  },
  {
   "cell_type": "code",
   "execution_count": 3,
   "id": "a8d7923c-5f28-4c30-8556-342d7c8497c1",
   "metadata": {},
   "outputs": [
    {
     "data": {
      "text/plain": [
       "True"
      ]
     },
     "execution_count": 3,
     "metadata": {},
     "output_type": "execute_result"
    }
   ],
   "source": [
    "# Set up environment\n",
    "load_dotenv()"
   ]
  },
  {
   "cell_type": "code",
   "execution_count": 4,
   "id": "0c387c1d-d344-4e88-95aa-1d7538530d7a",
   "metadata": {},
   "outputs": [],
   "source": [
    "# Clients\n",
    "openai = OpenAI()"
   ]
  },
  {
   "cell_type": "code",
   "execution_count": 5,
   "id": "3f0d0137-52b0-47a8-81a8-11a90a010798",
   "metadata": {},
   "outputs": [],
   "source": [
    "# Question (Change this to whatever is on your mind)\n",
    "question = \"\"\"\n",
    "Please explain what this code does and why:\n",
    "yield from {book.get(\"author\") for book in books if book.get(\"author\")}\n",
    "\"\"\""
   ]
  },
  {
   "cell_type": "code",
   "execution_count": 6,
   "id": "19a80654-bf43-4e04-91b1-3d630cbd5bb7",
   "metadata": {},
   "outputs": [],
   "source": [
    "# Prompts\n",
    "system_prompt = \"You are an expert that helps customers with their technical questions. \\\n",
    "You are given a question to which you must respond with an easy to understand explanation, \\\n",
    "without requiring previous knowledge on the topic from the customer. \\\n",
    "Respond in markdown.\"\n",
    "\n",
    "user_prompt = question"
   ]
  },
  {
   "cell_type": "code",
   "execution_count": 7,
   "id": "502210f6-68e6-4318-bf75-0907841435ad",
   "metadata": {},
   "outputs": [],
   "source": [
    "# Messages\n",
    "messages = [\n",
    "    {\"role\": \"system\", \"content\": system_prompt},\n",
    "    {\"role\": \"user\", \"content\": user_prompt}\n",
    "]"
   ]
  },
  {
   "cell_type": "code",
   "execution_count": 8,
   "id": "13f2de5f-b448-4b80-aff9-2c9b03426ebb",
   "metadata": {},
   "outputs": [],
   "source": [
    "# Payloads\n",
    "payload_gpt = {\n",
    "    \"model\": MODEL_GPT,\n",
    "    \"messages\": messages,\n",
    "    \"stream\": True\n",
    "}\n",
    "\n",
    "payload_llama = {\n",
    "    \"model\": MODEL_LLAMA,\n",
    "    \"messages\": messages\n",
    "}"
   ]
  },
  {
   "cell_type": "code",
   "execution_count": 9,
   "id": "60ce7000-a4a5-4cce-a261-e75ef45063b4",
   "metadata": {},
   "outputs": [
    {
     "data": {
      "text/markdown": [
       "Sure! Let's break down the code you provided:\n",
       "\n",
       "### What the Code Does\n",
       "\n",
       "1. **`{... for book in books if book.get(\"author\")}`**:\n",
       "   - This part is creating a **set** (denoted by the curly braces `{}`) that contains the unique authors from a list of `books`.\n",
       "   - `books` is expected to be a list (or another iterable) where each `book` is likely a dictionary.\n",
       "   - `book.get(\"author\")` is used to access the value associated with the key `\"author\"` in each `book`. If the `book` has an author, it returns their name; if not, it returns `None`.\n",
       "   - The `if book.get(\"author\")` condition ensures that only books with a valid author are included in the set.\n",
       "\n",
       "2. **`yield from`**:\n",
       "   - This keyword is used in generator functions in Python. It allows you to yield values from another iterator (in this case, the set of authors).\n",
       "   - When the generator reaches `yield from`, it will yield all the items from the set one by one.\n",
       "\n",
       "### Why the Code is Written This Way\n",
       "\n",
       "- **Unique Authors**: By using a set, the code automatically filters out duplicate authors. Even if several books have the same author, they will appear only once in the final result.\n",
       "  \n",
       "- **Efficiency**: Using `book.get(\"author\")` instead of `book[\"author\"]` prevents errors if an author does not exist for a book. If you tried to access a non-existent key directly, the code would raise a KeyError.\n",
       "\n",
       "- **Generator**: By using `yield from`, this code can efficiently generate a list of authors without needing to create and return a whole list at once. This is useful for saving memory if you are processing a large number of books.\n",
       "\n",
       "### Example\n",
       "\n",
       "Suppose you have the following list of books:\n",
       "\n",
       "python\n",
       "books = [\n",
       "    {\"title\": \"Book 1\", \"author\": \"Author A\"},\n",
       "    {\"title\": \"Book 2\", \"author\": \"Author B\"},\n",
       "    {\"title\": \"Book 3\", \"author\": \"Author A\"},\n",
       "    {\"title\": \"Book 4\"},  # No author\n",
       "]\n",
       "\n",
       "\n",
       "When you run your code, it will create a set containing `{\"Author A\", \"Author B\"}`, and `yield from` will then allow you to iterate over these authors. Each time you ask for the next author, you will get \"Author A\" and then \"Author B\".\n",
       "\n",
       "### Conclusion\n",
       "\n",
       "In summary, the code efficiently collects unique authors from a list of books while handling missing authors gracefully, and it uses a generator to yield these authors one at a time. This makes it both robust and memory-efficient!"
      ],
      "text/plain": [
       "<IPython.core.display.Markdown object>"
      ]
     },
     "metadata": {},
     "output_type": "display_data"
    }
   ],
   "source": [
    "# Get gpt-4o-mini to answer, with streaming\n",
    "stream = openai.chat.completions.create(**payload_gpt)\n",
    "\n",
    "response = \"\"\n",
    "display_handle = display(Markdown(\"\"), display_id=True)\n",
    "for chunk in stream:\n",
    "    response += chunk.choices[0].delta.content or ''\n",
    "    response = response.replace(\"```\",\"\").replace(\"markdown\", \"\")\n",
    "    update_display(Markdown(response), display_id=display_handle.display_id)"
   ]
  },
  {
   "cell_type": "code",
   "execution_count": 10,
   "id": "8f7c8ea8-4082-4ad0-8751-3301adcf6538",
   "metadata": {},
   "outputs": [],
   "source": [
    "# Get Llama 3.2 to answer, without streaming\n",
    "response = ollama.chat(**payload_llama)"
   ]
  },
  {
   "cell_type": "code",
   "execution_count": 11,
   "id": "6ead497a-765d-4668-97b4-bb34b9038ed7",
   "metadata": {},
   "outputs": [
    {
     "data": {
      "text/markdown": [
       "**Unpacking and Yielding Data**\n",
       "====================================\n",
       "\n",
       "The given code snippet is written in Python and utilizes the `yield from` keyword, which was introduced in Python 3.3.\n",
       "\n",
       "```python\n",
       "# Assume we have two dictionaries: 'book' and 'books'\n",
       "# book = {\"author\": \"John Doe\", ...}\n",
       "# books = [{\"author\": \"Jane Doe\", ...}, {\"author\": \"Bob Smith\", ...}]\n",
       "```\n",
       "\n",
       "Let's break down what the code does:\n",
       "\n",
       "### `for` Loop with `yield from`\n",
       "\n",
       "The expression `{book.get(\"author\") for book in books if book.get(\"author\")}` is a **generator expression**. It generates a sequence of values on-the-fly, without storing them in memory.\n",
       "\n",
       "The `for` loop iterates over each dictionary in the `books` list. The `if` condition filters out any dictionaries that don't have an \"author\" key.\n",
       "\n",
       "### `yield from`\n",
       "\n",
       "The `yield from` keyword is used to delegate a sub-generator's iteration to the current generator's frame. In this case, it allows us to yield values from the generator expression directly without having to use another loop or function.\n",
       "\n",
       "Here's how it works:\n",
       "\n",
       "1. The outer generator (the one using `for`) yields each dictionary in the `books` list.\n",
       "2. For each dictionary, the inner generator (`book.get(\"author\") for book in ...`) generates a sequence of values (in this case, just the author name).\n",
       "3. The `yield from` keyword delegates these generated values to the outer generator.\n",
       "\n",
       "**Result**\n",
       "\n",
       "The resulting iterator yields the authors' names one by one, filtered by the presence of an \"author\" key in each dictionary.\n",
       "\n",
       "### Example Use Case\n",
       "\n",
       "```python\n",
       "books = [{\"author\": \"Jane Doe\", ...}, {\"author\": \"Bob Smith\", ...}]\n",
       "authors = yield from {book.get(\"author\") for book in books if book.get(\"author\")}\n",
       "print(authors)  # Output: ['Jane Doe', 'Bob Smith']\n",
       "```\n",
       "\n",
       "This code can be useful when working with large datasets and you need to process specific data points (in this case, author names)."
      ],
      "text/plain": [
       "<IPython.core.display.Markdown object>"
      ]
     },
     "metadata": {},
     "output_type": "display_data"
    }
   ],
   "source": [
    "display(Markdown(response['message']['content']))"
   ]
  }
 ],
 "metadata": {
  "kernelspec": {
   "display_name": "Python 3 (ipykernel)",
   "language": "python",
   "name": "python3"
  },
  "language_info": {
   "codemirror_mode": {
    "name": "ipython",
    "version": 3
   },
   "file_extension": ".py",
   "mimetype": "text/x-python",
   "name": "python",
   "nbconvert_exporter": "python",
   "pygments_lexer": "ipython3",
   "version": "3.11.11"
  }
 },
 "nbformat": 4,
 "nbformat_minor": 5
}
