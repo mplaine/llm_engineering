{
 "cells": [
  {
   "cell_type": "markdown",
   "id": "d15d8294-3328-4e07-ad16-8a03e9bbfdb9",
   "metadata": {},
   "source": [
    "# Welcome to your first assignment!\n",
    "\n",
    "Instructions are below. Please give this a try, and look in the solutions folder if you get stuck (or feel free to ask me!)"
   ]
  },
  {
   "cell_type": "markdown",
   "id": "ada885d9-4d42-4d9b-97f0-74fbbbfe93a9",
   "metadata": {},
   "source": [
    "<table style=\"margin: 0; text-align: left;\">\n",
    "    <tr>\n",
    "        <td style=\"width: 150px; height: 150px; vertical-align: middle;\">\n",
    "            <img src=\"../resources.jpg\" width=\"150\" height=\"150\" style=\"display: block;\" />\n",
    "        </td>\n",
    "        <td>\n",
    "            <h2 style=\"color:#f71;\">Just before we get to the assignment --</h2>\n",
    "            <span style=\"color:#f71;\">I thought I'd take a second to point you at this page of useful resources for the course. This includes links to all the slides.<br/>\n",
    "            <a href=\"https://edwarddonner.com/2024/11/13/llm-engineering-resources/\">https://edwarddonner.com/2024/11/13/llm-engineering-resources/</a><br/>\n",
    "            Please keep this bookmarked, and I'll continue to add more useful links there over time.\n",
    "            </span>\n",
    "        </td>\n",
    "    </tr>\n",
    "</table>"
   ]
  },
  {
   "cell_type": "markdown",
   "id": "6e9fa1fc-eac5-4d1d-9be4-541b3f2b3458",
   "metadata": {},
   "source": [
    "# HOMEWORK EXERCISE ASSIGNMENT\n",
    "\n",
    "Upgrade the day 1 project to summarize a webpage to use an Open Source model running locally via Ollama rather than OpenAI\n",
    "\n",
    "You'll be able to use this technique for all subsequent projects if you'd prefer not to use paid APIs.\n",
    "\n",
    "**Benefits:**\n",
    "1. No API charges - open-source\n",
    "2. Data doesn't leave your box\n",
    "\n",
    "**Disadvantages:**\n",
    "1. Significantly less power than Frontier Model\n",
    "\n",
    "## Recap on installation of Ollama\n",
    "\n",
    "Simply visit [ollama.com](https://ollama.com) and install!\n",
    "\n",
    "Once complete, the ollama server should already be running locally.  \n",
    "If you visit:  \n",
    "[http://localhost:11434/](http://localhost:11434/)\n",
    "\n",
    "You should see the message `Ollama is running`.  \n",
    "\n",
    "If not, bring up a new Terminal (Mac) or Powershell (Windows) and enter `ollama serve`  \n",
    "And in another Terminal (Mac) or Powershell (Windows), enter `ollama pull llama3.2`  \n",
    "Then try [http://localhost:11434/](http://localhost:11434/) again.\n",
    "\n",
    "If Ollama is slow on your machine, try using `llama3.2:1b` as an alternative. Run `ollama pull llama3.2:1b` from a Terminal or Powershell, and change the code below from `MODEL = \"llama3.2\"` to `MODEL = \"llama3.2:1b\"`"
   ]
  },
  {
   "cell_type": "code",
   "execution_count": 1,
   "id": "4e2a9393-7767-488e-a8bf-27c12dca35bd",
   "metadata": {},
   "outputs": [],
   "source": [
    "# imports\n",
    "\n",
    "import requests\n",
    "from bs4 import BeautifulSoup\n",
    "from IPython.display import Markdown, display"
   ]
  },
  {
   "cell_type": "code",
   "execution_count": 2,
   "id": "29ddd15d-a3c5-4f4e-a678-873f56162724",
   "metadata": {},
   "outputs": [],
   "source": [
    "# Constants\n",
    "\n",
    "OLLAMA_API = \"http://localhost:11434/api/chat\"\n",
    "HEADERS = {\"Content-Type\": \"application/json\"}\n",
    "MODEL = \"llama3.2\""
   ]
  },
  {
   "cell_type": "code",
   "execution_count": 3,
   "id": "dac0a679-599c-441f-9bf2-ddc73d35b940",
   "metadata": {},
   "outputs": [],
   "source": [
    "# Create a messages list using the same format that we used for OpenAI\n",
    "\n",
    "messages = [\n",
    "    {\"role\": \"user\", \"content\": \"Describe some of the business applications of Generative AI\"}\n",
    "]"
   ]
  },
  {
   "cell_type": "code",
   "execution_count": 4,
   "id": "7bb9c624-14f0-4945-a719-8ddb64f66f47",
   "metadata": {},
   "outputs": [],
   "source": [
    "payload = {\n",
    "        \"model\": MODEL,\n",
    "        \"messages\": messages,\n",
    "        \"stream\": False\n",
    "    }"
   ]
  },
  {
   "cell_type": "code",
   "execution_count": 5,
   "id": "479ff514-e8bd-4985-a572-2ea28bb4fa40",
   "metadata": {},
   "outputs": [
    {
     "name": "stdout",
     "output_type": "stream",
     "text": [
      "\u001b[?25lpulling manifest ⠋ \u001b[?25h\u001b[?25l\u001b[2K\u001b[1Gpulling manifest ⠙ \u001b[?25h\u001b[?25l\u001b[2K\u001b[1Gpulling manifest ⠹ \u001b[?25h\u001b[?25l\u001b[2K\u001b[1Gpulling manifest ⠸ \u001b[?25h\u001b[?25l\u001b[2K\u001b[1Gpulling manifest ⠼ \u001b[?25h\u001b[?25l\u001b[2K\u001b[1Gpulling manifest ⠴ \u001b[?25h\u001b[?25l\u001b[2K\u001b[1Gpulling manifest ⠦ \u001b[?25h\u001b[?25l\u001b[2K\u001b[1Gpulling manifest ⠧ \u001b[?25h\u001b[?25l\u001b[2K\u001b[1Gpulling manifest ⠇ \u001b[?25h\u001b[?25l\u001b[2K\u001b[1Gpulling manifest ⠏ \u001b[?25h\u001b[?25l\u001b[2K\u001b[1Gpulling manifest ⠋ \u001b[?25h\u001b[?25l\u001b[2K\u001b[1Gpulling manifest ⠙ \u001b[?25h\u001b[?25l\u001b[2K\u001b[1Gpulling manifest ⠹ \u001b[?25h\u001b[?25l\u001b[2K\u001b[1Gpulling manifest \n",
      "pulling dde5aa3fc5ff... 100% ▕████████████████▏ 2.0 GB                         \n",
      "pulling 966de95ca8a6... 100% ▕████████████████▏ 1.4 KB                         \n",
      "pulling fcc5a6bec9da... 100% ▕████████████████▏ 7.7 KB                         \n",
      "pulling a70ff7e570d9... 100% ▕████████████████▏ 6.0 KB                         \n",
      "pulling 56bb8bd477a5... 100% ▕████████████████▏   96 B                         \n",
      "pulling 34bb5ab01051... 100% ▕████████████████▏  561 B                         \n",
      "verifying sha256 digest \n",
      "writing manifest \n",
      "success \u001b[?25h\n"
     ]
    }
   ],
   "source": [
    "# Let's just make sure the model is loaded\n",
    "\n",
    "!ollama pull llama3.2"
   ]
  },
  {
   "cell_type": "code",
   "execution_count": 6,
   "id": "42b9f644-522d-4e05-a691-56e7658c0ea9",
   "metadata": {},
   "outputs": [
    {
     "name": "stdout",
     "output_type": "stream",
     "text": [
      "Generative AI has numerous business applications across various industries, including:\n",
      "\n",
      "1. **Content Creation**: Generative AI can be used to generate high-quality content such as articles, social media posts, product descriptions, and more. This can help businesses save time and resources while maintaining consistency in their content.\n",
      "2. **Marketing Automation**: Generative AI can be used to automate marketing tasks such as email campaigns, ad targeting, and lead generation. It can also help personalize marketing messages based on customer data and behavior.\n",
      "3. **Personalized Recommendations**: Generative AI can be used to generate personalized product recommendations for customers based on their browsing history, purchase behavior, and other factors.\n",
      "4. **Chatbots and Virtual Assistants**: Generative AI can be used to create chatbots and virtual assistants that can provide 24/7 customer support and help businesses automate routine tasks.\n",
      "5. **Data Analysis and Visualization**: Generative AI can be used to analyze large datasets and generate visualizations such as charts, graphs, and heatmaps to help businesses make data-driven decisions.\n",
      "6. **Image and Video Generation**: Generative AI can be used to generate high-quality images and videos for marketing campaigns, product demos, and other business applications.\n",
      "7. **Product Design and Development**: Generative AI can be used to design new products, prototypes, and concepts based on customer feedback, market trends, and other factors.\n",
      "8. **Customer Service**: Generative AI can be used to generate responses to customer inquiries, resolve simple issues, and help businesses provide better customer service.\n",
      "9. **Supply Chain Management**: Generative AI can be used to optimize supply chain operations, predict demand, and identify potential bottlenecks in the production process.\n",
      "10. **Financial Analysis and Forecasting**: Generative AI can be used to analyze financial data, forecast revenue, and make predictions about market trends.\n",
      "\n",
      "Some specific business use cases for generative AI include:\n",
      "\n",
      "* **Amazon**: Uses generative AI to generate product descriptions, reviews, and even entire product pages.\n",
      "* **Netflix**: Uses generative AI to personalize recommendations for its users based on their viewing history and preferences.\n",
      "* **Walmart**: Uses generative AI to generate personalized marketing messages and offers for its customers based on their purchase behavior and demographics.\n",
      "* **Google**: Uses generative AI to generate high-quality images and videos for its search results, product demos, and other business applications.\n",
      "\n",
      "These are just a few examples of the many business applications of generative AI. As the technology continues to evolve, we can expect to see even more innovative use cases emerge across various industries.\n"
     ]
    }
   ],
   "source": [
    "# If this doesn't work for any reason, try the 2 versions in the following cells\n",
    "# And double check the instructions in the 'Recap on installation of Ollama' at the top of this lab\n",
    "# And if none of that works - contact me!\n",
    "\n",
    "response = requests.post(OLLAMA_API, json=payload, headers=HEADERS)\n",
    "print(response.json()['message']['content'])"
   ]
  },
  {
   "cell_type": "markdown",
   "id": "6a021f13-d6a1-4b96-8e18-4eae49d876fe",
   "metadata": {},
   "source": [
    "# Introducing the ollama package\n",
    "\n",
    "And now we'll do the same thing, but using the elegant ollama python package instead of a direct HTTP call.\n",
    "\n",
    "Under the hood, it's making the same call as above to the ollama server running at localhost:11434"
   ]
  },
  {
   "cell_type": "code",
   "execution_count": 7,
   "id": "7745b9c4-57dc-4867-9180-61fa5db55eb8",
   "metadata": {},
   "outputs": [
    {
     "name": "stdout",
     "output_type": "stream",
     "text": [
      "Generative AI has numerous business applications across various industries, including:\n",
      "\n",
      "1. **Content Creation**: Generative AI can be used to create high-quality content such as text, images, videos, and music. This can be particularly useful for businesses that need to produce large amounts of content quickly, such as marketing agencies, e-learning platforms, and media companies.\n",
      "2. **Product Design and Development**: Generative AI can be used to design new products, such as 3D models, product prototypes, and even entire product lines. This can help businesses reduce the time and cost associated with traditional product development methods.\n",
      "3. **Customer Service Chatbots**: Generative AI can be used to create advanced chatbots that can understand natural language and respond accordingly. This can help businesses improve their customer service experience and provide 24/7 support to customers.\n",
      "4. **Personalized Marketing**: Generative AI can be used to analyze customer data and behavior, and generate personalized marketing messages and offers. This can help businesses increase customer engagement and conversion rates.\n",
      "5. **Financial Analysis and Modeling**: Generative AI can be used to analyze large datasets and identify patterns and trends that may not be visible to humans. This can help businesses make more informed investment decisions and predict market trends.\n",
      "6. **Risk Management and Compliance**: Generative AI can be used to analyze financial data and identify potential risks and compliance issues. This can help businesses reduce the risk of non-compliance and improve their overall risk management strategy.\n",
      "7. **Supply Chain Optimization**: Generative AI can be used to optimize supply chain operations, such as demand forecasting, inventory management, and logistics planning. This can help businesses reduce costs and improve delivery times.\n",
      "8. **Predictive Maintenance**: Generative AI can be used to analyze equipment data and predict when maintenance is required. This can help businesses reduce downtime and improve overall equipment effectiveness.\n",
      "9. **Data Annotation and Labeling**: Generative AI can be used to annotate and label large datasets, which can help businesses prepare their data for machine learning models.\n",
      "10. **Digital Twinning**: Generative AI can be used to create digital twins of physical assets, such as buildings and equipment. This can help businesses optimize their operations and reduce energy consumption.\n",
      "\n",
      "Some specific examples of business applications of Generative AI include:\n",
      "\n",
      "* **SAP's Digital Customer Service**: SAP is using generative AI to power its digital customer service platform, which allows customers to interact with the company through chatbots and other interfaces.\n",
      "* **IBM's Watson Health**: IBM's Watson Health platform uses generative AI to analyze medical data and predict patient outcomes. This can help healthcare providers make more informed decisions about patient care.\n",
      "* **Google's DeepMind Health**: Google's DeepMind Health platform uses generative AI to analyze medical images and diagnose diseases. This can help doctors and researchers improve their understanding of complex diseases.\n",
      "\n",
      "These are just a few examples of the many business applications of Generative AI. As the technology continues to evolve, we can expect to see even more innovative applications across various industries.\n"
     ]
    }
   ],
   "source": [
    "import ollama\n",
    "\n",
    "response = ollama.chat(model=MODEL, messages=messages)\n",
    "print(response['message']['content'])"
   ]
  },
  {
   "cell_type": "markdown",
   "id": "a4704e10-f5fb-4c15-a935-f046c06fb13d",
   "metadata": {},
   "source": [
    "## Alternative approach - using OpenAI python library to connect to Ollama"
   ]
  },
  {
   "cell_type": "code",
   "execution_count": 8,
   "id": "23057e00-b6fc-4678-93a9-6b31cb704bff",
   "metadata": {},
   "outputs": [
    {
     "name": "stdout",
     "output_type": "stream",
     "text": [
      "Generative AI has numerous business applications across various industries. Here are some examples:\n",
      "\n",
      "1. **Content Creation**: Generative AI can automatically generate high-quality content, such as:\n",
      " * Product descriptions and product pages\n",
      " * Blog posts and articles\n",
      " * Social media posts and engaging content\n",
      " * Images and videos (using text-to-image models)\n",
      "2. **Marketing Automation**: Generative AI can help automate marketing workflows by generating:\n",
      " * Personalized marketing messages and emails\n",
      " * Ad copy and ads (with high accuracy)\n",
      " * Product recommendations and upselling/cross-selling suggestions\n",
      "3. **Customer Service Chatbots**: Generative AI-powered chatbots can:\n",
      " * Respond to customer inquiries and provide support\n",
      " * Offer personalized solutions and recommendations\n",
      " * Automate routine tasks, freeing up human customer service agents for more complex issues\n",
      "4. **Data Analysis and Visualization**: Generative AI can help analyze and visualize large datasets by:\n",
      " * Identifying trends and patterns in data\n",
      " * Generating visualizations (e.g., charts, graphs) to present insights\n",
      " * Predicting future trends and outcomes\n",
      "5. **Financial Modeling and Forecasting**: Generative AI can aid in financial modeling by generating:\n",
      " * Predictive models for sales, revenue, and expenses\n",
      " * Scenario-based forecasting and cash flow analysis\n",
      " * Risk assessment and sensitivity analysis\n",
      "6. **Design and Engineering**: Generative AI can assist design teams with tasks such as:\n",
      " * Conceptual designs and product development\n",
      " * 3D modeling and visualization\n",
      " * Material selection and optimization\n",
      "7. **Risk Management**: Generative AI can support risk management by generating:\n",
      " * Automated alerts for potential risks and threats\n",
      " * Scenario-based risk assessments and mitigation strategies\n",
      " * Predictive models for identifying high-risk events\n",
      "8. **Cybersecurity**: Generative AI can aid in cybersecurity by:\n",
      " * Analyzing patterns of malware and detecting new threats\n",
      " * Generating custom security protocols and configurations\n",
      " * Predicting potential vulnerabilities and weaknesses\n",
      "9. **Supply Chain Optimization**: Generative AI can help optimize supply chain operations by generating:\n",
      " * Route optimization for delivery vehicles\n",
      " * Demand forecasts and inventory management\n",
      " * Predictive models for material availability and lead times\n",
      "10. **Document Review and Management**: Generative AI can assist with document review and management tasks such as:\n",
      " * Automated document summarization and abstracting\n",
      " * Document translation (voice-to-text) and transcription\n",
      " * Redaction and removal of sensitive information\n",
      "\n",
      "These are just a few examples of the many business applications of Generative AI. As this technology continues to evolve, we're likely to see even more innovative uses across industries.\n"
     ]
    }
   ],
   "source": [
    "# There's actually an alternative approach that some people might prefer\n",
    "# You can use the OpenAI client python library to call Ollama:\n",
    "\n",
    "from openai import OpenAI\n",
    "ollama_via_openai = OpenAI(base_url='http://localhost:11434/v1', api_key='ollama')\n",
    "\n",
    "response = ollama_via_openai.chat.completions.create(\n",
    "    model=MODEL,\n",
    "    messages=messages\n",
    ")\n",
    "\n",
    "print(response.choices[0].message.content)"
   ]
  },
  {
   "cell_type": "markdown",
   "id": "1622d9bb-5c68-4d4e-9ca4-b492c751f898",
   "metadata": {},
   "source": [
    "# NOW the exercise for you\n",
    "\n",
    "Take the code from day1 and incorporate it here, to build a website summarizer that uses Llama 3.2 running locally instead of OpenAI; use either of the above approaches."
   ]
  },
  {
   "cell_type": "code",
   "execution_count": 9,
   "id": "b16a3bbe-8a04-4c69-8b11-b7fd365d230d",
   "metadata": {},
   "outputs": [],
   "source": [
    "# A class to represent a Webpage\n",
    "# If you're not familiar with Classes, check out the \"Intermediate Python\" notebook\n",
    "\n",
    "# Some websites need you to use proper headers when fetching them:\n",
    "headers = {\n",
    " \"User-Agent\": \"Mozilla/5.0 (Windows NT 10.0; Win64; x64) AppleWebKit/537.36 (KHTML, like Gecko) Chrome/117.0.0.0 Safari/537.36\"\n",
    "}\n",
    "\n",
    "class Website:\n",
    "\n",
    "    def __init__(self, url):\n",
    "        \"\"\"\n",
    "        Create this Website object from the given url using the BeautifulSoup library\n",
    "        \"\"\"\n",
    "        self.url = url\n",
    "        response = requests.get(url, headers=headers)\n",
    "        soup = BeautifulSoup(response.content, 'html.parser')\n",
    "        self.title = soup.title.string if soup.title else \"No title found\"\n",
    "        for irrelevant in soup.body([\"script\", \"style\", \"img\", \"input\"]):\n",
    "            irrelevant.decompose()\n",
    "        self.text = soup.body.get_text(separator=\"\\n\", strip=True)"
   ]
  },
  {
   "cell_type": "code",
   "execution_count": 10,
   "id": "8a5c0b87-ff85-4d3a-92c5-a3644f5adc92",
   "metadata": {},
   "outputs": [],
   "source": [
    "# Define our system prompt - you can experiment with this later, changing the last sentence to 'Respond in markdown in Spanish.\"\n",
    "\n",
    "system_prompt = \"You are an assistant that analyzes the contents of a website \\\n",
    "and provides a short summary, ignoring text that might be navigation related. \\\n",
    "Respond in markdown.\""
   ]
  },
  {
   "cell_type": "code",
   "execution_count": 11,
   "id": "3609473a-e5dc-4f4e-bbdf-4235588ea704",
   "metadata": {},
   "outputs": [],
   "source": [
    "# A function that writes a User Prompt that asks for summaries of websites:\n",
    "\n",
    "def user_prompt_for(website):\n",
    "    user_prompt = f\"You are looking at a website titled {website.title}\"\n",
    "    user_prompt += \"\\nThe contents of this website is as follows; \\\n",
    "please provide a short summary of this website in markdown. \\\n",
    "If it includes news or announcements, then summarize these too.\\n\\n\"\n",
    "    user_prompt += website.text\n",
    "    return user_prompt"
   ]
  },
  {
   "cell_type": "code",
   "execution_count": 12,
   "id": "c17a3d17-223b-4698-8905-2016a52f7780",
   "metadata": {},
   "outputs": [],
   "source": [
    "# See how this function creates exactly the format above\n",
    "\n",
    "def messages_for(website):\n",
    "    return [\n",
    "        {\"role\": \"system\", \"content\": system_prompt},\n",
    "        {\"role\": \"user\", \"content\": user_prompt_for(website)}\n",
    "    ]"
   ]
  },
  {
   "cell_type": "code",
   "execution_count": 13,
   "id": "402d5686-4e76-4110-b65a-b3906c35c0a4",
   "metadata": {},
   "outputs": [],
   "source": [
    "# And now: call the OpenAI API. You will get very familiar with this!\n",
    "\n",
    "def summarize(url):\n",
    "    website = Website(url)\n",
    "    response = ollama.chat(model=MODEL, messages=messages_for(website))\n",
    "    return response['message']['content']"
   ]
  },
  {
   "cell_type": "code",
   "execution_count": 14,
   "id": "39bdb995-89d8-404b-8c59-c024544b5cd6",
   "metadata": {},
   "outputs": [],
   "source": [
    "# A function to display this nicely in the Jupyter output, using markdown\n",
    "\n",
    "def display_summary(url):\n",
    "    summary = summarize(url)\n",
    "    display(Markdown(summary))"
   ]
  },
  {
   "cell_type": "code",
   "execution_count": 15,
   "id": "f291885b-945a-40dd-b812-63f794ccbb9a",
   "metadata": {},
   "outputs": [
    {
     "data": {
      "text/markdown": [
       "# Website Summary: Edward Donner\n",
       "\n",
       "## Overview\n",
       "\n",
       "The website is hosted by Ed, the co-founder and CTO of Nebula.io. The platform applies AI to help people discover their potential and pursue their reason for being.\n",
       "\n",
       "## News/Announcements\n",
       "\n",
       "- **December 21, 2024**: Welcome message for SuperDataScientists.\n",
       "- **November 13, 2024**: Announcement of \"Mastering AI and LLM Engineering – Resources\".\n",
       "- **October 16, 2024**: Announcement of \"From Software Engineer to AI Data Scientist – resources\".\n",
       "- **August 6, 2024**: Introduction to the \"Outsmart LLM Arena\" - a battle of diplomacy and deviousness between LLMs.\n",
       "\n",
       "## Features\n",
       "\n",
       "* The Outsmart arena pits LLMs against each other in a competitive environment.\n",
       "* Nebula.io's platform applies AI to help people discover their potential and pursue their reason for being."
      ],
      "text/plain": [
       "<IPython.core.display.Markdown object>"
      ]
     },
     "metadata": {},
     "output_type": "display_data"
    }
   ],
   "source": [
    "display_summary(\"https://edwarddonner.com\")"
   ]
  },
  {
   "cell_type": "code",
   "execution_count": null,
   "id": "1f76cc2c-3ade-47f0-8256-0ba026838376",
   "metadata": {},
   "outputs": [],
   "source": []
  }
 ],
 "metadata": {
  "kernelspec": {
   "display_name": "Python 3 (ipykernel)",
   "language": "python",
   "name": "python3"
  },
  "language_info": {
   "codemirror_mode": {
    "name": "ipython",
    "version": 3
   },
   "file_extension": ".py",
   "mimetype": "text/x-python",
   "name": "python",
   "nbconvert_exporter": "python",
   "pygments_lexer": "ipython3",
   "version": "3.11.11"
  }
 },
 "nbformat": 4,
 "nbformat_minor": 5
}
